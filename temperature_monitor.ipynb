{
 "cells": [
  {
   "cell_type": "markdown",
   "id": "92ae22a6-8fc0-41ca-a928-3e4c2c80743c",
   "metadata": {},
   "source": [
    "# Auto Malfunction Detection Of Air Conditioner In Train Control Room\n",
    "\n",
    "\n",
    "William Xu\n",
    "## Table of Contents\n",
    "<ul>\n",
    "<li><a href=\"#intro\">Introduction</a></li>\n",
    "    <ul>\n",
    "            <li><a href=\"#gather\">Gathering Data</a></li>\n",
    "            <li><a href=\"#assess\">Assessing/Cleaning Data</a></li>\n",
    "    </ul>\n",
    "<li><a href=\"#algorithm\">Algorithm</a></li>\n",
    "<li><a href=\"#final_function\">Final Function</a></li>\n",
    "    <ul>\n",
    "            <li><a href=\"#testing_tool\">Testing Tool</a></li>\n",
    "    </ul>  \n",
    "</ul>\n",
    "\n",
    "<a id='intro'></a>\n",
    "## Introduction\n",
    "\n",
    "> The goal of the project is to algorithmically detect and predict air conditioning malfunction through room temperatures and outdoor temperatures data over time."
   ]
  },
  {
   "cell_type": "code",
   "execution_count": 1,
   "id": "311b2a86-fc97-442e-80df-2147cec25b1f",
   "metadata": {
    "tags": []
   },
   "outputs": [],
   "source": [
    "#import library\n",
    "import pandas as pd\n",
    "import numpy as np\n",
    "import matplotlib.pyplot as plt\n",
    "import seaborn as sns\n",
    "from datetime import datetime, timedelta"
   ]
  },
  {
   "cell_type": "markdown",
   "id": "d27798a8-709e-4c91-aff0-2f73084fb79f",
   "metadata": {},
   "source": [
    "<a id='gather'></a>\n",
    "## Gathering Data\n",
    "> <b>In this part, we will gather two parts of data</b>\n",
    "<ol>\n",
    "    <li>Loading two datasets. \n",
    "        <ul>\n",
    "            <li><b>outdoor-temperature-20220815-.csv:</b> stores the outdoor temperature in 15 minute increments. </li>\n",
    "            <li><b>train-control-room-temperature-20220815.csv:</b> stores the train control room temperature in 15 minute increments. </li>\n",
    "        </ul>\n",
    "    <li>Import given BART's rail track diagram. \n",
    "        <ul>\n",
    "            <li><b>BART-tracks-dashboard-map.png:</b> BART's rail track diagram.</li>\n",
    "        </ul>\n",
    "    <li>Access json txt file and save as a dataframe. This json file stores the real bart location. It should be downloaded at the following URL: <a href=\"https://api.bart.gov/docs/stn/stns.aspx\">https://api.bart.gov/docs/stn/stns.aspx</a></li>\n",
    "</ol>"
   ]
  },
  {
   "cell_type": "code",
   "execution_count": 4,
   "id": "3768ea7e-ce39-44cd-8b90-8afd7df27633",
   "metadata": {
    "tags": []
   },
   "outputs": [
    {
     "data": {
      "text/html": [
       "<div>\n",
       "<style scoped>\n",
       "    .dataframe tbody tr th:only-of-type {\n",
       "        vertical-align: middle;\n",
       "    }\n",
       "\n",
       "    .dataframe tbody tr th {\n",
       "        vertical-align: top;\n",
       "    }\n",
       "\n",
       "    .dataframe thead th {\n",
       "        text-align: right;\n",
       "    }\n",
       "</style>\n",
       "<table border=\"1\" class=\"dataframe\">\n",
       "  <thead>\n",
       "    <tr style=\"text-align: right;\">\n",
       "      <th></th>\n",
       "      <th>_time</th>\n",
       "      <th>Location</th>\n",
       "      <th>Temperature</th>\n",
       "    </tr>\n",
       "  </thead>\n",
       "  <tbody>\n",
       "    <tr>\n",
       "      <th>0</th>\n",
       "      <td>2022-09-12T23:58:42.000-0700</td>\n",
       "      <td>A20</td>\n",
       "      <td>61.0</td>\n",
       "    </tr>\n",
       "    <tr>\n",
       "      <th>1</th>\n",
       "      <td>2022-09-12T23:35:01.000-0700</td>\n",
       "      <td>W10</td>\n",
       "      <td>58.0</td>\n",
       "    </tr>\n",
       "    <tr>\n",
       "      <th>2</th>\n",
       "      <td>2022-09-12T23:33:43.000-0700</td>\n",
       "      <td>C50</td>\n",
       "      <td>63.0</td>\n",
       "    </tr>\n",
       "    <tr>\n",
       "      <th>3</th>\n",
       "      <td>2022-09-12T23:32:55.000-0700</td>\n",
       "      <td>C70</td>\n",
       "      <td>64.0</td>\n",
       "    </tr>\n",
       "    <tr>\n",
       "      <th>4</th>\n",
       "      <td>2022-09-12T23:32:39.000-0700</td>\n",
       "      <td>Y10</td>\n",
       "      <td>61.0</td>\n",
       "    </tr>\n",
       "  </tbody>\n",
       "</table>\n",
       "</div>"
      ],
      "text/plain": [
       "                          _time Location  Temperature\n",
       "0  2022-09-12T23:58:42.000-0700      A20         61.0\n",
       "1  2022-09-12T23:35:01.000-0700      W10         58.0\n",
       "2  2022-09-12T23:33:43.000-0700      C50         63.0\n",
       "3  2022-09-12T23:32:55.000-0700      C70         64.0\n",
       "4  2022-09-12T23:32:39.000-0700      Y10         61.0"
      ]
     },
     "execution_count": 4,
     "metadata": {},
     "output_type": "execute_result"
    }
   ],
   "source": [
    "#load the data\n",
    "outdoor = pd.read_csv(r\"/Users/william/Desktop/aurora/Nerd/bart/outdoor-temperature-20220601-0912.csv.zip\")\n",
    "\n",
    "indoor = pd.read_csv(r\"/Users/william/Desktop/aurora/Nerd/bart/indoor-temperature-20220601-0912.csv.zip\")\n",
    "indoor['Source'] = 'Indoor'\n",
    "indoor['Location'] = indoor['Location'].str[:3]\n",
    "\n",
    "outdoor.head()"
   ]
  },
  {
   "cell_type": "code",
   "execution_count": 5,
   "id": "85cc274a-2952-41b6-9963-4ed7b6525be4",
   "metadata": {
    "tags": []
   },
   "outputs": [
    {
     "data": {
      "text/html": [
       "<div>\n",
       "<style scoped>\n",
       "    .dataframe tbody tr th:only-of-type {\n",
       "        vertical-align: middle;\n",
       "    }\n",
       "\n",
       "    .dataframe tbody tr th {\n",
       "        vertical-align: top;\n",
       "    }\n",
       "\n",
       "    .dataframe thead th {\n",
       "        text-align: right;\n",
       "    }\n",
       "</style>\n",
       "<table border=\"1\" class=\"dataframe\">\n",
       "  <thead>\n",
       "    <tr style=\"text-align: right;\">\n",
       "      <th></th>\n",
       "      <th>_time</th>\n",
       "      <th>Temperature</th>\n",
       "      <th>Location</th>\n",
       "      <th>Source</th>\n",
       "    </tr>\n",
       "  </thead>\n",
       "  <tbody>\n",
       "    <tr>\n",
       "      <th>0</th>\n",
       "      <td>2022-09-12T23:22:01.000-0700</td>\n",
       "      <td>75.5</td>\n",
       "      <td>Y10</td>\n",
       "      <td>Indoor</td>\n",
       "    </tr>\n",
       "    <tr>\n",
       "      <th>1</th>\n",
       "      <td>2022-09-12T23:22:01.000-0700</td>\n",
       "      <td>77.1</td>\n",
       "      <td>W40</td>\n",
       "      <td>Indoor</td>\n",
       "    </tr>\n",
       "    <tr>\n",
       "      <th>2</th>\n",
       "      <td>2022-09-12T23:22:01.000-0700</td>\n",
       "      <td>75.2</td>\n",
       "      <td>W34</td>\n",
       "      <td>Indoor</td>\n",
       "    </tr>\n",
       "    <tr>\n",
       "      <th>3</th>\n",
       "      <td>2022-09-12T23:22:01.000-0700</td>\n",
       "      <td>71.9</td>\n",
       "      <td>W20</td>\n",
       "      <td>Indoor</td>\n",
       "    </tr>\n",
       "    <tr>\n",
       "      <th>4</th>\n",
       "      <td>2022-09-12T23:22:01.000-0700</td>\n",
       "      <td>73.1</td>\n",
       "      <td>W10</td>\n",
       "      <td>Indoor</td>\n",
       "    </tr>\n",
       "  </tbody>\n",
       "</table>\n",
       "</div>"
      ],
      "text/plain": [
       "                          _time Temperature Location  Source\n",
       "0  2022-09-12T23:22:01.000-0700        75.5      Y10  Indoor\n",
       "1  2022-09-12T23:22:01.000-0700        77.1      W40  Indoor\n",
       "2  2022-09-12T23:22:01.000-0700        75.2      W34  Indoor\n",
       "3  2022-09-12T23:22:01.000-0700        71.9      W20  Indoor\n",
       "4  2022-09-12T23:22:01.000-0700        73.1      W10  Indoor"
      ]
     },
     "execution_count": 5,
     "metadata": {},
     "output_type": "execute_result"
    }
   ],
   "source": [
    "indoor.head()"
   ]
  },
  {
   "cell_type": "code",
   "execution_count": 6,
   "id": "d14e6a27-dedf-4ac8-881f-0ade15d15503",
   "metadata": {
    "lines_to_next_cell": 0
   },
   "outputs": [
    {
     "data": {
      "text/plain": [
       "RendererRegistry.enable('jupyterlab')"
      ]
     },
     "execution_count": 6,
     "metadata": {},
     "output_type": "execute_result"
    }
   ],
   "source": [
    "import altair as alt\n",
    "alt.data_transformers.disable_max_rows()\n",
    "alt.renderers.enable('jupyterlab')"
   ]
  },
  {
   "cell_type": "markdown",
   "id": "5959ab35-0b3e-44bd-b6be-b48bf0beca4c",
   "metadata": {},
   "source": [
    "to enable Altair to plot for more than 5000 rows."
   ]
  },
  {
   "cell_type": "markdown",
   "id": "9fd9df48-40dc-43f2-8bf1-a652fa6bdd67",
   "metadata": {
    "lines_to_next_cell": 0
   },
   "source": [
    "## Polts of Outdoor Temperatures at Different Locations"
   ]
  },
  {
   "cell_type": "code",
   "execution_count": null,
   "id": "fa6eb497-2fe8-4a13-ad0e-cdbe7792cb5a",
   "metadata": {
    "lines_to_next_cell": 0,
    "tags": []
   },
   "outputs": [],
   "source": [
    "alt.Chart(outdoor).mark_line().encode(\n",
    "    x='_time:T',\n",
    "    y=alt.Y(\"Temperature:Q\", scale=alt.Scale(domain=[55, 110]))\n",
    ").facet(\n",
    "    'Location:N',\n",
    "    columns = 6\n",
    ")"
   ]
  },
  {
   "cell_type": "markdown",
   "id": "54519397-fdcc-4ed8-9694-ba6787374fca",
   "metadata": {
    "tags": []
   },
   "source": [
    "## CHALLENGE: Prase dates such that they appear in datetime format in 15 minute increments"
   ]
  }
 ],
 "metadata": {
  "kernelspec": {
   "display_name": "Python 3 (ipykernel)",
   "language": "python",
   "name": "python3"
  },
  "language_info": {
   "codemirror_mode": {
    "name": "ipython",
    "version": 3
   },
   "file_extension": ".py",
   "mimetype": "text/x-python",
   "name": "python",
   "nbconvert_exporter": "python",
   "pygments_lexer": "ipython3",
   "version": "3.10.6"
  }
 },
 "nbformat": 4,
 "nbformat_minor": 5
}
